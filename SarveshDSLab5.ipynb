{
  "nbformat": 4,
  "nbformat_minor": 0,
  "metadata": {
    "colab": {
      "provenance": []
    },
    "kernelspec": {
      "name": "python3",
      "display_name": "Python 3"
    },
    "language_info": {
      "name": "python"
    }
  },
  "cells": [
    {
      "cell_type": "code",
      "execution_count": 1,
      "metadata": {
        "colab": {
          "base_uri": "https://localhost:8080/"
        },
        "id": "X7PwxbuPXNTZ",
        "outputId": "b61c0ee4-4d1d-4004-dd0a-9408ec2bdbb5"
      },
      "outputs": [
        {
          "output_type": "stream",
          "name": "stdout",
          "text": [
            "<bound method DataFrame.mean of    ID     Name Department  Age  Salary  ExperienceYears\n",
            "0   1    Alice         HR   25   50000                1\n",
            "1   2      Bob         IT   30   60000                4\n",
            "2   3  Charlie         IT   35   70000                8\n",
            "3   4    David         HR   28   55000                3\n",
            "4   5      Eva    Finance   40   75000               12>\n"
          ]
        }
      ],
      "source": [
        "import pandas as pd\n",
        "df = pd.read_csv(\"sample_employee_dataset.csv\")\n",
        "\n",
        "# a. Mean\n",
        "\n",
        "print(df.mean)"
      ]
    },
    {
      "cell_type": "code",
      "source": [
        "# b. Median\n",
        "\n",
        "print(df.median)\n",
        "\n"
      ],
      "metadata": {
        "colab": {
          "base_uri": "https://localhost:8080/"
        },
        "id": "HIPeL1aKf8er",
        "outputId": "cda5bfd0-af70-4704-a8c3-085b50311c6a"
      },
      "execution_count": 2,
      "outputs": [
        {
          "output_type": "stream",
          "name": "stdout",
          "text": [
            "<bound method DataFrame.median of    ID     Name Department  Age  Salary  ExperienceYears\n",
            "0   1    Alice         HR   25   50000                1\n",
            "1   2      Bob         IT   30   60000                4\n",
            "2   3  Charlie         IT   35   70000                8\n",
            "3   4    David         HR   28   55000                3\n",
            "4   5      Eva    Finance   40   75000               12>\n"
          ]
        }
      ]
    },
    {
      "cell_type": "code",
      "source": [
        "# c. Mode\n",
        "\n",
        "print(df.mode)"
      ],
      "metadata": {
        "colab": {
          "base_uri": "https://localhost:8080/"
        },
        "id": "LMQQb6y0gS3b",
        "outputId": "cdba082a-4c5b-4fd7-cf0f-4fc7c011bed2"
      },
      "execution_count": 3,
      "outputs": [
        {
          "output_type": "stream",
          "name": "stdout",
          "text": [
            "<bound method DataFrame.mode of    ID     Name Department  Age  Salary  ExperienceYears\n",
            "0   1    Alice         HR   25   50000                1\n",
            "1   2      Bob         IT   30   60000                4\n",
            "2   3  Charlie         IT   35   70000                8\n",
            "3   4    David         HR   28   55000                3\n",
            "4   5      Eva    Finance   40   75000               12>\n"
          ]
        }
      ]
    },
    {
      "cell_type": "code",
      "source": [
        "# d.  Variance\n",
        "\n",
        "print(df.var)"
      ],
      "metadata": {
        "colab": {
          "base_uri": "https://localhost:8080/"
        },
        "id": "ANzKvn24giy8",
        "outputId": "f9e28e9b-6dd6-417f-d300-215e137678ee"
      },
      "execution_count": 4,
      "outputs": [
        {
          "output_type": "stream",
          "name": "stdout",
          "text": [
            "<bound method DataFrame.var of    ID     Name Department  Age  Salary  ExperienceYears\n",
            "0   1    Alice         HR   25   50000                1\n",
            "1   2      Bob         IT   30   60000                4\n",
            "2   3  Charlie         IT   35   70000                8\n",
            "3   4    David         HR   28   55000                3\n",
            "4   5      Eva    Finance   40   75000               12>\n"
          ]
        }
      ]
    },
    {
      "cell_type": "code",
      "source": [
        "# e. Standard Deviation\n",
        "\n",
        "print(df.std)"
      ],
      "metadata": {
        "colab": {
          "base_uri": "https://localhost:8080/"
        },
        "id": "k24VuMrnhON3",
        "outputId": "318fb575-4c85-4bb4-a7fc-c6f74b419061"
      },
      "execution_count": 5,
      "outputs": [
        {
          "output_type": "stream",
          "name": "stdout",
          "text": [
            "<bound method DataFrame.std of    ID     Name Department  Age  Salary  ExperienceYears\n",
            "0   1    Alice         HR   25   50000                1\n",
            "1   2      Bob         IT   30   60000                4\n",
            "2   3  Charlie         IT   35   70000                8\n",
            "3   4    David         HR   28   55000                3\n",
            "4   5      Eva    Finance   40   75000               12>\n"
          ]
        }
      ]
    },
    {
      "cell_type": "code",
      "source": [
        "print(\"\\nGrouped Statistics  by Department:\")\n",
        "grouped = df.groupby('Department').agg({\n",
        "    'Salary': ['mean', 'median', 'std'],\n",
        "    'Age': ['mean', 'std']\n",
        "})\n",
        "print(grouped)"
      ],
      "metadata": {
        "colab": {
          "base_uri": "https://localhost:8080/"
        },
        "id": "5mg5hSHliCJ5",
        "outputId": "ea8d2ab6-50f4-48f3-f54b-5d61bf48d26e"
      },
      "execution_count": 6,
      "outputs": [
        {
          "output_type": "stream",
          "name": "stdout",
          "text": [
            "\n",
            "Grouped Statistics  by Department:\n",
            "             Salary                         Age          \n",
            "               mean   median          std  mean       std\n",
            "Department                                               \n",
            "Finance     75000.0  75000.0          NaN  40.0       NaN\n",
            "HR          52500.0  52500.0  3535.533906  26.5  2.121320\n",
            "IT          65000.0  65000.0  7071.067812  32.5  3.535534\n"
          ]
        }
      ]
    },
    {
      "cell_type": "code",
      "source": [
        "print(\"\\nQuick Descriptive Statistics:\")\n",
        "print(df.describe)"
      ],
      "metadata": {
        "colab": {
          "base_uri": "https://localhost:8080/"
        },
        "id": "5f3DBSdsknJr",
        "outputId": "e00328c2-a841-4cec-b3b6-a08d17cc7ad5"
      },
      "execution_count": 9,
      "outputs": [
        {
          "output_type": "stream",
          "name": "stdout",
          "text": [
            "\n",
            "Quick Descriptive Statistics:\n",
            "<bound method NDFrame.describe of    ID     Name Department  Age  Salary  ExperienceYears\n",
            "0   1    Alice         HR   25   50000                1\n",
            "1   2      Bob         IT   30   60000                4\n",
            "2   3  Charlie         IT   35   70000                8\n",
            "3   4    David         HR   28   55000                3\n",
            "4   5      Eva    Finance   40   75000               12>\n"
          ]
        }
      ]
    }
  ]
}